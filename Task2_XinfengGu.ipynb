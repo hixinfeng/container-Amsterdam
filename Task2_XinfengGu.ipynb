{
 "cells": [
  {
   "cell_type": "markdown",
   "id": "56035171-7a46-4c29-9d48-23cd4eadffd9",
   "metadata": {
    "tags": []
   },
   "source": [
    "# Task2"
   ]
  },
  {
   "cell_type": "code",
   "execution_count": 1,
   "id": "2703db93-a902-4996-803d-e22da09a8a23",
   "metadata": {
    "tags": []
   },
   "outputs": [],
   "source": [
    "import pandas as pd\n",
    "import requests\n",
    "from pprint import pprint\n",
    "import json\n",
    "from pandas import json_normalize\n",
    "import numpy as np\n",
    "import scipy.stats\n",
    "from scipy.stats import chisquare\n",
    "import json\n",
    "\n",
    "from sklearn.preprocessing import StandardScaler\n",
    "from sklearn.cluster import KMeans, AgglomerativeClustering\n",
    "\n",
    "import matplotlib.pyplot as plt\n",
    "import seaborn as sns"
   ]
  },
  {
   "cell_type": "markdown",
   "id": "f7b0c19f-1e7e-4a23-8421-c7d83cd07985",
   "metadata": {},
   "source": [
    "## 1. Retrieve the data"
   ]
  },
  {
   "cell_type": "markdown",
   "id": "1c56dfb9-3dc7-4a22-b1ef-452f8a2b53be",
   "metadata": {},
   "source": [
    "### 1.1 A function to retrieve data"
   ]
  },
  {
   "cell_type": "markdown",
   "id": "2d59005a-c484-4735-9516-43c0ccbfc927",
   "metadata": {
    "tags": []
   },
   "source": [
    "> As I would retrieve the data from different endpoints for several times, I made a function to retrieve the data in this section.   \n",
    "> - Among three keys('_links', 'count', 'results'), I focus on 'results' here because it contains most of the information.\n",
    "> - The key '_links' can be used to turn to the next page."
   ]
  },
  {
   "cell_type": "code",
   "execution_count": 2,
   "id": "019dd487-2440-4ab3-8fd9-4bc2cb77577e",
   "metadata": {
    "tags": []
   },
   "outputs": [
    {
     "name": "stdout",
     "output_type": "stream",
     "text": [
      "dict_keys(['_links', 'count', 'results'])\n",
      "{'next': {'href': 'https://api.data.amsterdam.nl/afval/v1/containers/?page=2'},\n",
      " 'previous': {'href': None},\n",
      " 'self': {'href': 'https://api.data.amsterdam.nl/afval/v1/containers/'}}\n",
      "23138\n",
      "{'_display': 'Container object (2830)',\n",
      " '_links': {'self': {'href': 'https://api.data.amsterdam.nl/afval/v1/containers/2830/'}},\n",
      " 'active': 0,\n",
      " 'address': 'Jan Evertsenstraat 717, Amsterdam',\n",
      " 'container_type': {'id': 27,\n",
      "                    'name': 'Nieuw-West (SV)  Rest 5m3 TR Opl inst',\n",
      "                    'volume': 5.0,\n",
      "                    'weight': 700},\n",
      " 'id': 2830,\n",
      " 'id_number': 'REF31242',\n",
      " 'operational_date': '2008-08-02T00:00:00Z',\n",
      " 'owner': {'id': 184, 'name': 'Amsterdam Dump Locatie'},\n",
      " 'placing_date': '2008-08-02T00:00:00Z',\n",
      " 'warranty_date': '2005-12-31T00:00:00Z',\n",
      " 'waste_name': 'Rest',\n",
      " 'waste_type': 1,\n",
      " 'well': 'https://api.data.amsterdam.nl/afval/v1/wells/2829/'}\n"
     ]
    }
   ],
   "source": [
    "# One try\n",
    "api = 'https://api.data.amsterdam.nl/afval/v1/containers/'\n",
    "r = requests.get(api)\n",
    "data = r.json()\n",
    "print(data.keys())\n",
    "pprint(data['_links'])\n",
    "pprint(data['count'])\n",
    "pprint(data['results'][0])"
   ]
  },
  {
   "cell_type": "code",
   "execution_count": 3,
   "id": "7fabfe3f-d740-43f3-b07d-bcc39ab6c362",
   "metadata": {
    "tags": []
   },
   "outputs": [],
   "source": [
    "# The function\n",
    "def myretrieval(url, page_number):\n",
    "    allitems = []\n",
    "    number_of_page = 1 # The original value is set as 1, which means starting from the 1st page.\n",
    "    while True:\n",
    "        r = requests.get(url)\n",
    "        data = r.json()\n",
    "        if number_of_page > page_number:\n",
    "            print(f'Retrieved {len(allitems)}, this is from the first {page_number} pages.')\n",
    "            break\n",
    "        allitems.extend(data['results'])\n",
    "        number_of_page += 1 # Get the page number of the next page\n",
    "        url = data['_links']['next']['href'] # Get the URL of the next page\n",
    "    data_all = json_normalize(allitems)\n",
    "    print(f'The shape of the retrieved data is {data_all.shape}')\n",
    "    return data_all"
   ]
  },
  {
   "cell_type": "markdown",
   "id": "ee6af825-d78a-41cf-9396-25e600df4703",
   "metadata": {},
   "source": [
    "### 1.2 Have a glimpse of three APIs"
   ]
  },
  {
   "cell_type": "code",
   "execution_count": 4,
   "id": "3cc66542-aa86-4975-835e-f33782fbf3fc",
   "metadata": {
    "tags": []
   },
   "outputs": [
    {
     "name": "stdout",
     "output_type": "stream",
     "text": [
      "Retrieved 200, this is from the first 10 pages.\n",
      "The shape of the retrieved data is (200, 18)\n"
     ]
    },
    {
     "data": {
      "text/html": [
       "<div>\n",
       "<style scoped>\n",
       "    .dataframe tbody tr th:only-of-type {\n",
       "        vertical-align: middle;\n",
       "    }\n",
       "\n",
       "    .dataframe tbody tr th {\n",
       "        vertical-align: top;\n",
       "    }\n",
       "\n",
       "    .dataframe thead th {\n",
       "        text-align: right;\n",
       "    }\n",
       "</style>\n",
       "<table border=\"1\" class=\"dataframe\">\n",
       "  <thead>\n",
       "    <tr style=\"text-align: right;\">\n",
       "      <th></th>\n",
       "      <th>_display</th>\n",
       "      <th>id</th>\n",
       "      <th>id_number</th>\n",
       "      <th>active</th>\n",
       "      <th>waste_type</th>\n",
       "      <th>waste_name</th>\n",
       "      <th>warranty_date</th>\n",
       "      <th>operational_date</th>\n",
       "      <th>placing_date</th>\n",
       "      <th>well</th>\n",
       "      <th>address</th>\n",
       "      <th>_links.self.href</th>\n",
       "      <th>owner.id</th>\n",
       "      <th>owner.name</th>\n",
       "      <th>container_type.id</th>\n",
       "      <th>container_type.name</th>\n",
       "      <th>container_type.volume</th>\n",
       "      <th>container_type.weight</th>\n",
       "    </tr>\n",
       "  </thead>\n",
       "  <tbody>\n",
       "    <tr>\n",
       "      <th>0</th>\n",
       "      <td>Container object (2830)</td>\n",
       "      <td>2830</td>\n",
       "      <td>REF31242</td>\n",
       "      <td>0</td>\n",
       "      <td>1</td>\n",
       "      <td>Rest</td>\n",
       "      <td>2005-12-31T00:00:00Z</td>\n",
       "      <td>2008-08-02T00:00:00Z</td>\n",
       "      <td>2008-08-02T00:00:00Z</td>\n",
       "      <td>https://api.data.amsterdam.nl/afval/v1/wells/2...</td>\n",
       "      <td>Jan Evertsenstraat 717, Amsterdam</td>\n",
       "      <td>https://api.data.amsterdam.nl/afval/v1/contain...</td>\n",
       "      <td>184</td>\n",
       "      <td>Amsterdam Dump Locatie</td>\n",
       "      <td>27</td>\n",
       "      <td>Nieuw-West (SV)  Rest 5m3 TR Opl inst</td>\n",
       "      <td>5.0</td>\n",
       "      <td>700.0</td>\n",
       "    </tr>\n",
       "    <tr>\n",
       "      <th>1</th>\n",
       "      <td>Container object (2860)</td>\n",
       "      <td>2860</td>\n",
       "      <td>REF60815</td>\n",
       "      <td>0</td>\n",
       "      <td>1</td>\n",
       "      <td>Rest</td>\n",
       "      <td>2008-12-30T00:00:00Z</td>\n",
       "      <td>None</td>\n",
       "      <td>None</td>\n",
       "      <td>https://api.data.amsterdam.nl/afval/v1/wells/2...</td>\n",
       "      <td>Burgemeester Eliasstraat 43-2, 1063EW, Amsterdam</td>\n",
       "      <td>https://api.data.amsterdam.nl/afval/v1/contain...</td>\n",
       "      <td>184</td>\n",
       "      <td>Amsterdam Dump Locatie</td>\n",
       "      <td>27</td>\n",
       "      <td>Nieuw-West (SV)  Rest 5m3 TR Opl inst</td>\n",
       "      <td>5.0</td>\n",
       "      <td>700.0</td>\n",
       "    </tr>\n",
       "    <tr>\n",
       "      <th>2</th>\n",
       "      <td>Container object (3494)</td>\n",
       "      <td>3494</td>\n",
       "      <td>REF31790</td>\n",
       "      <td>0</td>\n",
       "      <td>1</td>\n",
       "      <td>Rest</td>\n",
       "      <td>2011-06-29T00:00:00Z</td>\n",
       "      <td>2010-06-29T00:00:00Z</td>\n",
       "      <td>2010-06-29T00:00:00Z</td>\n",
       "      <td>https://api.data.amsterdam.nl/afval/v1/wells/3...</td>\n",
       "      <td>Uffizilaan 11, Amsterdam</td>\n",
       "      <td>https://api.data.amsterdam.nl/afval/v1/contain...</td>\n",
       "      <td>184</td>\n",
       "      <td>Amsterdam Dump Locatie</td>\n",
       "      <td>27</td>\n",
       "      <td>Nieuw-West (SV)  Rest 5m3 TR Opl inst</td>\n",
       "      <td>5.0</td>\n",
       "      <td>700.0</td>\n",
       "    </tr>\n",
       "    <tr>\n",
       "      <th>3</th>\n",
       "      <td>Container object (3560)</td>\n",
       "      <td>3560</td>\n",
       "      <td>REF60451</td>\n",
       "      <td>0</td>\n",
       "      <td>1</td>\n",
       "      <td>Rest</td>\n",
       "      <td>2011-11-29T00:00:00Z</td>\n",
       "      <td>2010-11-29T00:00:00Z</td>\n",
       "      <td>2010-11-29T00:00:00Z</td>\n",
       "      <td>https://api.data.amsterdam.nl/afval/v1/wells/3...</td>\n",
       "      <td>Guggenheimlaan 59, Amsterdam</td>\n",
       "      <td>https://api.data.amsterdam.nl/afval/v1/contain...</td>\n",
       "      <td>184</td>\n",
       "      <td>Amsterdam Dump Locatie</td>\n",
       "      <td>138</td>\n",
       "      <td>Nieuw-West papier 5m3</td>\n",
       "      <td>5.0</td>\n",
       "      <td>650.0</td>\n",
       "    </tr>\n",
       "    <tr>\n",
       "      <th>4</th>\n",
       "      <td>Container object (3566)</td>\n",
       "      <td>3566</td>\n",
       "      <td>PAF60060</td>\n",
       "      <td>0</td>\n",
       "      <td>6</td>\n",
       "      <td>Papier</td>\n",
       "      <td>2011-11-30T00:00:00Z</td>\n",
       "      <td>2010-02-09T00:00:00Z</td>\n",
       "      <td>2010-02-09T00:00:00Z</td>\n",
       "      <td>https://api.data.amsterdam.nl/afval/v1/wells/3...</td>\n",
       "      <td>Mezquitalaan 43, Amsterdam</td>\n",
       "      <td>https://api.data.amsterdam.nl/afval/v1/contain...</td>\n",
       "      <td>184</td>\n",
       "      <td>Amsterdam Dump Locatie</td>\n",
       "      <td>138</td>\n",
       "      <td>Nieuw-West papier 5m3</td>\n",
       "      <td>5.0</td>\n",
       "      <td>650.0</td>\n",
       "    </tr>\n",
       "  </tbody>\n",
       "</table>\n",
       "</div>"
      ],
      "text/plain": [
       "                  _display    id id_number  active  waste_type waste_name  \\\n",
       "0  Container object (2830)  2830  REF31242       0           1       Rest   \n",
       "1  Container object (2860)  2860  REF60815       0           1       Rest   \n",
       "2  Container object (3494)  3494  REF31790       0           1       Rest   \n",
       "3  Container object (3560)  3560  REF60451       0           1       Rest   \n",
       "4  Container object (3566)  3566  PAF60060       0           6     Papier   \n",
       "\n",
       "          warranty_date      operational_date          placing_date  \\\n",
       "0  2005-12-31T00:00:00Z  2008-08-02T00:00:00Z  2008-08-02T00:00:00Z   \n",
       "1  2008-12-30T00:00:00Z                  None                  None   \n",
       "2  2011-06-29T00:00:00Z  2010-06-29T00:00:00Z  2010-06-29T00:00:00Z   \n",
       "3  2011-11-29T00:00:00Z  2010-11-29T00:00:00Z  2010-11-29T00:00:00Z   \n",
       "4  2011-11-30T00:00:00Z  2010-02-09T00:00:00Z  2010-02-09T00:00:00Z   \n",
       "\n",
       "                                                well  \\\n",
       "0  https://api.data.amsterdam.nl/afval/v1/wells/2...   \n",
       "1  https://api.data.amsterdam.nl/afval/v1/wells/2...   \n",
       "2  https://api.data.amsterdam.nl/afval/v1/wells/3...   \n",
       "3  https://api.data.amsterdam.nl/afval/v1/wells/3...   \n",
       "4  https://api.data.amsterdam.nl/afval/v1/wells/3...   \n",
       "\n",
       "                                            address  \\\n",
       "0                 Jan Evertsenstraat 717, Amsterdam   \n",
       "1  Burgemeester Eliasstraat 43-2, 1063EW, Amsterdam   \n",
       "2                          Uffizilaan 11, Amsterdam   \n",
       "3                      Guggenheimlaan 59, Amsterdam   \n",
       "4                        Mezquitalaan 43, Amsterdam   \n",
       "\n",
       "                                    _links.self.href  owner.id  \\\n",
       "0  https://api.data.amsterdam.nl/afval/v1/contain...       184   \n",
       "1  https://api.data.amsterdam.nl/afval/v1/contain...       184   \n",
       "2  https://api.data.amsterdam.nl/afval/v1/contain...       184   \n",
       "3  https://api.data.amsterdam.nl/afval/v1/contain...       184   \n",
       "4  https://api.data.amsterdam.nl/afval/v1/contain...       184   \n",
       "\n",
       "               owner.name  container_type.id  \\\n",
       "0  Amsterdam Dump Locatie                 27   \n",
       "1  Amsterdam Dump Locatie                 27   \n",
       "2  Amsterdam Dump Locatie                 27   \n",
       "3  Amsterdam Dump Locatie                138   \n",
       "4  Amsterdam Dump Locatie                138   \n",
       "\n",
       "                     container_type.name  container_type.volume  \\\n",
       "0  Nieuw-West (SV)  Rest 5m3 TR Opl inst                    5.0   \n",
       "1  Nieuw-West (SV)  Rest 5m3 TR Opl inst                    5.0   \n",
       "2  Nieuw-West (SV)  Rest 5m3 TR Opl inst                    5.0   \n",
       "3                  Nieuw-West papier 5m3                    5.0   \n",
       "4                  Nieuw-West papier 5m3                    5.0   \n",
       "\n",
       "   container_type.weight  \n",
       "0                  700.0  \n",
       "1                  700.0  \n",
       "2                  700.0  \n",
       "3                  650.0  \n",
       "4                  650.0  "
      ]
     },
     "execution_count": 4,
     "metadata": {},
     "output_type": "execute_result"
    }
   ],
   "source": [
    "# Containers\n",
    "d_container = myretrieval('https://api.data.amsterdam.nl/afval/v1/containers/', 10)\n",
    "d_container.head()"
   ]
  },
  {
   "cell_type": "code",
   "execution_count": 5,
   "id": "54d1c2c0-5d23-4004-8c73-9216f4138d27",
   "metadata": {
    "tags": []
   },
   "outputs": [
    {
     "name": "stdout",
     "output_type": "stream",
     "text": [
      "Retrieved 200, this is from the first 10 pages.\n",
      "The shape of the retrieved data is (200, 18)\n"
     ]
    },
    {
     "data": {
      "text/html": [
       "<div>\n",
       "<style scoped>\n",
       "    .dataframe tbody tr th:only-of-type {\n",
       "        vertical-align: middle;\n",
       "    }\n",
       "\n",
       "    .dataframe tbody tr th {\n",
       "        vertical-align: top;\n",
       "    }\n",
       "\n",
       "    .dataframe thead th {\n",
       "        text-align: right;\n",
       "    }\n",
       "</style>\n",
       "<table border=\"1\" class=\"dataframe\">\n",
       "  <thead>\n",
       "    <tr style=\"text-align: right;\">\n",
       "      <th></th>\n",
       "      <th>_display</th>\n",
       "      <th>id</th>\n",
       "      <th>id_number</th>\n",
       "      <th>serial_number</th>\n",
       "      <th>buurt_code</th>\n",
       "      <th>stadsdeel</th>\n",
       "      <th>created_at</th>\n",
       "      <th>warranty_date</th>\n",
       "      <th>operational_date</th>\n",
       "      <th>site</th>\n",
       "      <th>_links.self.href</th>\n",
       "      <th>geometrie.type</th>\n",
       "      <th>geometrie.coordinates</th>\n",
       "      <th>containers.count</th>\n",
       "      <th>containers.href</th>\n",
       "      <th>address.summary</th>\n",
       "      <th>address.district</th>\n",
       "      <th>address.neighbourhood</th>\n",
       "    </tr>\n",
       "  </thead>\n",
       "  <tbody>\n",
       "    <tr>\n",
       "      <th>0</th>\n",
       "      <td>Well object (2829)</td>\n",
       "      <td>2829</td>\n",
       "      <td>WLREF31651</td>\n",
       "      <td>WL118921</td>\n",
       "      <td>F86a</td>\n",
       "      <td>F</td>\n",
       "      <td>2010-09-22T11:55:35Z</td>\n",
       "      <td>2028-12-31T00:00:00Z</td>\n",
       "      <td>None</td>\n",
       "      <td>https://api.data.amsterdam.nl/afval/v1/sites/1...</td>\n",
       "      <td>https://api.data.amsterdam.nl/afval/v1/wells/2...</td>\n",
       "      <td>Point</td>\n",
       "      <td>[4.8357449, 52.3698168]</td>\n",
       "      <td>2</td>\n",
       "      <td>https://api.data.amsterdam.nl/afval/v1/contain...</td>\n",
       "      <td>Jan Evertsenstraat 717, Amsterdam</td>\n",
       "      <td>F86 - Overtoomse Veld</td>\n",
       "      <td>86a - Overtoomse Veld Noord</td>\n",
       "    </tr>\n",
       "    <tr>\n",
       "      <th>1</th>\n",
       "      <td>Well object (2859)</td>\n",
       "      <td>2859</td>\n",
       "      <td>REF60815</td>\n",
       "      <td>118855</td>\n",
       "      <td>F76a</td>\n",
       "      <td>F</td>\n",
       "      <td>2010-09-29T14:06:38Z</td>\n",
       "      <td>2008-12-31T00:00:00Z</td>\n",
       "      <td>None</td>\n",
       "      <td>None</td>\n",
       "      <td>https://api.data.amsterdam.nl/afval/v1/wells/2...</td>\n",
       "      <td>Point</td>\n",
       "      <td>[4.826871156692505, 52.38157216012434]</td>\n",
       "      <td>1</td>\n",
       "      <td>https://api.data.amsterdam.nl/afval/v1/contain...</td>\n",
       "      <td>Burgemeester Eliasstraat 43-2, 1063EW, Amsterdam</td>\n",
       "      <td>Nieuw-West</td>\n",
       "      <td>F76 - Slotermeer-Noordoost</td>\n",
       "    </tr>\n",
       "    <tr>\n",
       "      <th>2</th>\n",
       "      <td>Well object (3235)</td>\n",
       "      <td>3235</td>\n",
       "      <td>WLREF31057</td>\n",
       "      <td>WLREF31057</td>\n",
       "      <td>F86b</td>\n",
       "      <td>F</td>\n",
       "      <td>2010-10-18T14:41:11Z</td>\n",
       "      <td>2028-12-31T00:00:00Z</td>\n",
       "      <td>None</td>\n",
       "      <td>https://api.data.amsterdam.nl/afval/v1/sites/1...</td>\n",
       "      <td>https://api.data.amsterdam.nl/afval/v1/wells/3...</td>\n",
       "      <td>Point</td>\n",
       "      <td>[4.8403859, 52.3606233]</td>\n",
       "      <td>1</td>\n",
       "      <td>https://api.data.amsterdam.nl/afval/v1/contain...</td>\n",
       "      <td>Derkinderenstraat 11, Amsterdam</td>\n",
       "      <td>F86 - Overtoomse Veld</td>\n",
       "      <td>86b - Overtoomse Veld Zuid</td>\n",
       "    </tr>\n",
       "    <tr>\n",
       "      <th>3</th>\n",
       "      <td>Well object (3493)</td>\n",
       "      <td>3493</td>\n",
       "      <td>WLREF35075</td>\n",
       "      <td>WL60093</td>\n",
       "      <td>F85a</td>\n",
       "      <td>F</td>\n",
       "      <td>2010-11-30T15:44:57Z</td>\n",
       "      <td>2030-08-30T00:00:00Z</td>\n",
       "      <td>None</td>\n",
       "      <td>https://api.data.amsterdam.nl/afval/v1/sites/1...</td>\n",
       "      <td>https://api.data.amsterdam.nl/afval/v1/wells/3...</td>\n",
       "      <td>Point</td>\n",
       "      <td>[4.8314285, 52.3667671]</td>\n",
       "      <td>2</td>\n",
       "      <td>https://api.data.amsterdam.nl/afval/v1/contain...</td>\n",
       "      <td>Uffizilaan 11, Amsterdam</td>\n",
       "      <td>F85 - Slotervaart Noord</td>\n",
       "      <td>85a - Oostoever Sloterplas</td>\n",
       "    </tr>\n",
       "    <tr>\n",
       "      <th>4</th>\n",
       "      <td>Well object (3559)</td>\n",
       "      <td>3559</td>\n",
       "      <td>WLREF35060</td>\n",
       "      <td>WL60451</td>\n",
       "      <td>F85a</td>\n",
       "      <td>F</td>\n",
       "      <td>2010-12-03T15:44:23Z</td>\n",
       "      <td>2030-11-28T00:00:00Z</td>\n",
       "      <td>None</td>\n",
       "      <td>https://api.data.amsterdam.nl/afval/v1/sites/1...</td>\n",
       "      <td>https://api.data.amsterdam.nl/afval/v1/wells/3...</td>\n",
       "      <td>Point</td>\n",
       "      <td>[4.8294377, 52.3678161]</td>\n",
       "      <td>2</td>\n",
       "      <td>https://api.data.amsterdam.nl/afval/v1/contain...</td>\n",
       "      <td>Guggenheimlaan 59, Amsterdam</td>\n",
       "      <td>F85 - Slotervaart Noord</td>\n",
       "      <td>85a - Oostoever Sloterplas</td>\n",
       "    </tr>\n",
       "  </tbody>\n",
       "</table>\n",
       "</div>"
      ],
      "text/plain": [
       "             _display    id   id_number serial_number buurt_code stadsdeel  \\\n",
       "0  Well object (2829)  2829  WLREF31651      WL118921       F86a         F   \n",
       "1  Well object (2859)  2859    REF60815        118855       F76a         F   \n",
       "2  Well object (3235)  3235  WLREF31057    WLREF31057       F86b         F   \n",
       "3  Well object (3493)  3493  WLREF35075       WL60093       F85a         F   \n",
       "4  Well object (3559)  3559  WLREF35060       WL60451       F85a         F   \n",
       "\n",
       "             created_at         warranty_date operational_date  \\\n",
       "0  2010-09-22T11:55:35Z  2028-12-31T00:00:00Z             None   \n",
       "1  2010-09-29T14:06:38Z  2008-12-31T00:00:00Z             None   \n",
       "2  2010-10-18T14:41:11Z  2028-12-31T00:00:00Z             None   \n",
       "3  2010-11-30T15:44:57Z  2030-08-30T00:00:00Z             None   \n",
       "4  2010-12-03T15:44:23Z  2030-11-28T00:00:00Z             None   \n",
       "\n",
       "                                                site  \\\n",
       "0  https://api.data.amsterdam.nl/afval/v1/sites/1...   \n",
       "1                                               None   \n",
       "2  https://api.data.amsterdam.nl/afval/v1/sites/1...   \n",
       "3  https://api.data.amsterdam.nl/afval/v1/sites/1...   \n",
       "4  https://api.data.amsterdam.nl/afval/v1/sites/1...   \n",
       "\n",
       "                                    _links.self.href geometrie.type  \\\n",
       "0  https://api.data.amsterdam.nl/afval/v1/wells/2...          Point   \n",
       "1  https://api.data.amsterdam.nl/afval/v1/wells/2...          Point   \n",
       "2  https://api.data.amsterdam.nl/afval/v1/wells/3...          Point   \n",
       "3  https://api.data.amsterdam.nl/afval/v1/wells/3...          Point   \n",
       "4  https://api.data.amsterdam.nl/afval/v1/wells/3...          Point   \n",
       "\n",
       "                    geometrie.coordinates  containers.count  \\\n",
       "0                 [4.8357449, 52.3698168]                 2   \n",
       "1  [4.826871156692505, 52.38157216012434]                 1   \n",
       "2                 [4.8403859, 52.3606233]                 1   \n",
       "3                 [4.8314285, 52.3667671]                 2   \n",
       "4                 [4.8294377, 52.3678161]                 2   \n",
       "\n",
       "                                     containers.href  \\\n",
       "0  https://api.data.amsterdam.nl/afval/v1/contain...   \n",
       "1  https://api.data.amsterdam.nl/afval/v1/contain...   \n",
       "2  https://api.data.amsterdam.nl/afval/v1/contain...   \n",
       "3  https://api.data.amsterdam.nl/afval/v1/contain...   \n",
       "4  https://api.data.amsterdam.nl/afval/v1/contain...   \n",
       "\n",
       "                                    address.summary         address.district  \\\n",
       "0                 Jan Evertsenstraat 717, Amsterdam    F86 - Overtoomse Veld   \n",
       "1  Burgemeester Eliasstraat 43-2, 1063EW, Amsterdam               Nieuw-West   \n",
       "2                   Derkinderenstraat 11, Amsterdam    F86 - Overtoomse Veld   \n",
       "3                          Uffizilaan 11, Amsterdam  F85 - Slotervaart Noord   \n",
       "4                      Guggenheimlaan 59, Amsterdam  F85 - Slotervaart Noord   \n",
       "\n",
       "         address.neighbourhood  \n",
       "0  86a - Overtoomse Veld Noord  \n",
       "1   F76 - Slotermeer-Noordoost  \n",
       "2   86b - Overtoomse Veld Zuid  \n",
       "3   85a - Oostoever Sloterplas  \n",
       "4   85a - Oostoever Sloterplas  "
      ]
     },
     "execution_count": 5,
     "metadata": {},
     "output_type": "execute_result"
    }
   ],
   "source": [
    "# Wells\n",
    "d_well = myretrieval('https://api.data.amsterdam.nl/afval/v1/wells/', 10)\n",
    "d_well.head()"
   ]
  },
  {
   "cell_type": "code",
   "execution_count": 6,
   "id": "4642c4d5-340a-4bbd-9f7e-6307b6757498",
   "metadata": {
    "tags": []
   },
   "outputs": [
    {
     "name": "stdout",
     "output_type": "stream",
     "text": [
      "Retrieved 100, this is from the first 10 pages.\n",
      "The shape of the retrieved data is (100, 21)\n"
     ]
    },
    {
     "data": {
      "text/html": [
       "<div>\n",
       "<style scoped>\n",
       "    .dataframe tbody tr th:only-of-type {\n",
       "        vertical-align: middle;\n",
       "    }\n",
       "\n",
       "    .dataframe tbody tr th {\n",
       "        vertical-align: top;\n",
       "    }\n",
       "\n",
       "    .dataframe thead th {\n",
       "        text-align: right;\n",
       "    }\n",
       "</style>\n",
       "<table border=\"1\" class=\"dataframe\">\n",
       "  <thead>\n",
       "    <tr style=\"text-align: right;\">\n",
       "      <th></th>\n",
       "      <th>_display</th>\n",
       "      <th>id</th>\n",
       "      <th>short_id</th>\n",
       "      <th>stadsdeel</th>\n",
       "      <th>straatnaam</th>\n",
       "      <th>huisnummer</th>\n",
       "      <th>_links.self.href</th>\n",
       "      <th>wells.count</th>\n",
       "      <th>wells.href</th>\n",
       "      <th>fracties.containers.Rest</th>\n",
       "      <th>...</th>\n",
       "      <th>centroid.type</th>\n",
       "      <th>centroid.coordinates</th>\n",
       "      <th>fracties.containers.Papier</th>\n",
       "      <th>fracties.volumes_m3.Papier</th>\n",
       "      <th>fracties.containers.Glas</th>\n",
       "      <th>fracties.volumes_m3.Glas</th>\n",
       "      <th>fracties.containers.Textiel</th>\n",
       "      <th>fracties.volumes_m3.Textiel</th>\n",
       "      <th>fracties.containers.GFT</th>\n",
       "      <th>fracties.volumes_m3.GFT</th>\n",
       "    </tr>\n",
       "  </thead>\n",
       "  <tbody>\n",
       "    <tr>\n",
       "      <th>0</th>\n",
       "      <td>112973-485077-F84b-Schotse Hooglanden 60</td>\n",
       "      <td>112973-485077-F84b</td>\n",
       "      <td>594260</td>\n",
       "      <td>F</td>\n",
       "      <td>Schotse Hooglanden</td>\n",
       "      <td>60</td>\n",
       "      <td>https://api.data.amsterdam.nl/afval/v1/sites/1...</td>\n",
       "      <td>2</td>\n",
       "      <td>https://api.data.amsterdam.nl/afval/v1/wells/?...</td>\n",
       "      <td>2.0</td>\n",
       "      <td>...</td>\n",
       "      <td>Point</td>\n",
       "      <td>[4.770360950305084, 52.35199187960165]</td>\n",
       "      <td>NaN</td>\n",
       "      <td>NaN</td>\n",
       "      <td>NaN</td>\n",
       "      <td>NaN</td>\n",
       "      <td>NaN</td>\n",
       "      <td>NaN</td>\n",
       "      <td>NaN</td>\n",
       "      <td>NaN</td>\n",
       "    </tr>\n",
       "    <tr>\n",
       "      <th>1</th>\n",
       "      <td>113044-485173-F84b-Schotse Hooglanden 24</td>\n",
       "      <td>113044-485173-F84b</td>\n",
       "      <td>594224</td>\n",
       "      <td>F</td>\n",
       "      <td>Schotse Hooglanden</td>\n",
       "      <td>24</td>\n",
       "      <td>https://api.data.amsterdam.nl/afval/v1/sites/1...</td>\n",
       "      <td>2</td>\n",
       "      <td>https://api.data.amsterdam.nl/afval/v1/wells/?...</td>\n",
       "      <td>2.0</td>\n",
       "      <td>...</td>\n",
       "      <td>Point</td>\n",
       "      <td>[4.771383478042294, 52.35285580231497]</td>\n",
       "      <td>NaN</td>\n",
       "      <td>NaN</td>\n",
       "      <td>NaN</td>\n",
       "      <td>NaN</td>\n",
       "      <td>NaN</td>\n",
       "      <td>NaN</td>\n",
       "      <td>NaN</td>\n",
       "      <td>NaN</td>\n",
       "    </tr>\n",
       "    <tr>\n",
       "      <th>2</th>\n",
       "      <td>113095-485088-F84b-La Meye 32</td>\n",
       "      <td>113095-485088-F84b</td>\n",
       "      <td>592132</td>\n",
       "      <td>F</td>\n",
       "      <td>La Meye</td>\n",
       "      <td>32</td>\n",
       "      <td>https://api.data.amsterdam.nl/afval/v1/sites/1...</td>\n",
       "      <td>2</td>\n",
       "      <td>https://api.data.amsterdam.nl/afval/v1/wells/?...</td>\n",
       "      <td>2.0</td>\n",
       "      <td>...</td>\n",
       "      <td>Point</td>\n",
       "      <td>[4.772143476437362, 52.35209430145116]</td>\n",
       "      <td>NaN</td>\n",
       "      <td>NaN</td>\n",
       "      <td>NaN</td>\n",
       "      <td>NaN</td>\n",
       "      <td>NaN</td>\n",
       "      <td>NaN</td>\n",
       "      <td>NaN</td>\n",
       "      <td>NaN</td>\n",
       "    </tr>\n",
       "    <tr>\n",
       "      <th>3</th>\n",
       "      <td>113104-485015-F84b-Le Tourmalet 54</td>\n",
       "      <td>113104-485015-F84b</td>\n",
       "      <td>592054</td>\n",
       "      <td>F</td>\n",
       "      <td>Le Tourmalet</td>\n",
       "      <td>54</td>\n",
       "      <td>https://api.data.amsterdam.nl/afval/v1/sites/1...</td>\n",
       "      <td>2</td>\n",
       "      <td>https://api.data.amsterdam.nl/afval/v1/wells/?...</td>\n",
       "      <td>2.0</td>\n",
       "      <td>...</td>\n",
       "      <td>Point</td>\n",
       "      <td>[4.772281174339349, 52.35143709902364]</td>\n",
       "      <td>NaN</td>\n",
       "      <td>NaN</td>\n",
       "      <td>NaN</td>\n",
       "      <td>NaN</td>\n",
       "      <td>NaN</td>\n",
       "      <td>NaN</td>\n",
       "      <td>NaN</td>\n",
       "      <td>NaN</td>\n",
       "    </tr>\n",
       "    <tr>\n",
       "      <th>4</th>\n",
       "      <td>113105-484894-F84b-Pyreneeën 23</td>\n",
       "      <td>113105-484894-F84b</td>\n",
       "      <td>219823</td>\n",
       "      <td>F</td>\n",
       "      <td>Pyreneeën</td>\n",
       "      <td>23</td>\n",
       "      <td>https://api.data.amsterdam.nl/afval/v1/sites/1...</td>\n",
       "      <td>2</td>\n",
       "      <td>https://api.data.amsterdam.nl/afval/v1/wells/?...</td>\n",
       "      <td>2.0</td>\n",
       "      <td>...</td>\n",
       "      <td>Point</td>\n",
       "      <td>[4.77231474867903, 52.35035497265083]</td>\n",
       "      <td>NaN</td>\n",
       "      <td>NaN</td>\n",
       "      <td>NaN</td>\n",
       "      <td>NaN</td>\n",
       "      <td>NaN</td>\n",
       "      <td>NaN</td>\n",
       "      <td>NaN</td>\n",
       "      <td>NaN</td>\n",
       "    </tr>\n",
       "  </tbody>\n",
       "</table>\n",
       "<p>5 rows × 21 columns</p>\n",
       "</div>"
      ],
      "text/plain": [
       "                                   _display                  id  short_id  \\\n",
       "0  112973-485077-F84b-Schotse Hooglanden 60  112973-485077-F84b    594260   \n",
       "1  113044-485173-F84b-Schotse Hooglanden 24  113044-485173-F84b    594224   \n",
       "2             113095-485088-F84b-La Meye 32  113095-485088-F84b    592132   \n",
       "3        113104-485015-F84b-Le Tourmalet 54  113104-485015-F84b    592054   \n",
       "4           113105-484894-F84b-Pyreneeën 23  113105-484894-F84b    219823   \n",
       "\n",
       "  stadsdeel          straatnaam  huisnummer  \\\n",
       "0         F  Schotse Hooglanden          60   \n",
       "1         F  Schotse Hooglanden          24   \n",
       "2         F             La Meye          32   \n",
       "3         F        Le Tourmalet          54   \n",
       "4         F           Pyreneeën          23   \n",
       "\n",
       "                                    _links.self.href  wells.count  \\\n",
       "0  https://api.data.amsterdam.nl/afval/v1/sites/1...            2   \n",
       "1  https://api.data.amsterdam.nl/afval/v1/sites/1...            2   \n",
       "2  https://api.data.amsterdam.nl/afval/v1/sites/1...            2   \n",
       "3  https://api.data.amsterdam.nl/afval/v1/sites/1...            2   \n",
       "4  https://api.data.amsterdam.nl/afval/v1/sites/1...            2   \n",
       "\n",
       "                                          wells.href  \\\n",
       "0  https://api.data.amsterdam.nl/afval/v1/wells/?...   \n",
       "1  https://api.data.amsterdam.nl/afval/v1/wells/?...   \n",
       "2  https://api.data.amsterdam.nl/afval/v1/wells/?...   \n",
       "3  https://api.data.amsterdam.nl/afval/v1/wells/?...   \n",
       "4  https://api.data.amsterdam.nl/afval/v1/wells/?...   \n",
       "\n",
       "   fracties.containers.Rest  ...  centroid.type  \\\n",
       "0                       2.0  ...          Point   \n",
       "1                       2.0  ...          Point   \n",
       "2                       2.0  ...          Point   \n",
       "3                       2.0  ...          Point   \n",
       "4                       2.0  ...          Point   \n",
       "\n",
       "                     centroid.coordinates fracties.containers.Papier  \\\n",
       "0  [4.770360950305084, 52.35199187960165]                        NaN   \n",
       "1  [4.771383478042294, 52.35285580231497]                        NaN   \n",
       "2  [4.772143476437362, 52.35209430145116]                        NaN   \n",
       "3  [4.772281174339349, 52.35143709902364]                        NaN   \n",
       "4   [4.77231474867903, 52.35035497265083]                        NaN   \n",
       "\n",
       "   fracties.volumes_m3.Papier  fracties.containers.Glas  \\\n",
       "0                         NaN                       NaN   \n",
       "1                         NaN                       NaN   \n",
       "2                         NaN                       NaN   \n",
       "3                         NaN                       NaN   \n",
       "4                         NaN                       NaN   \n",
       "\n",
       "   fracties.volumes_m3.Glas  fracties.containers.Textiel  \\\n",
       "0                       NaN                          NaN   \n",
       "1                       NaN                          NaN   \n",
       "2                       NaN                          NaN   \n",
       "3                       NaN                          NaN   \n",
       "4                       NaN                          NaN   \n",
       "\n",
       "   fracties.volumes_m3.Textiel  fracties.containers.GFT  \\\n",
       "0                          NaN                      NaN   \n",
       "1                          NaN                      NaN   \n",
       "2                          NaN                      NaN   \n",
       "3                          NaN                      NaN   \n",
       "4                          NaN                      NaN   \n",
       "\n",
       "   fracties.volumes_m3.GFT  \n",
       "0                      NaN  \n",
       "1                      NaN  \n",
       "2                      NaN  \n",
       "3                      NaN  \n",
       "4                      NaN  \n",
       "\n",
       "[5 rows x 21 columns]"
      ]
     },
     "execution_count": 6,
     "metadata": {},
     "output_type": "execute_result"
    }
   ],
   "source": [
    "# Sites\n",
    "d_site = myretrieval('https://api.data.amsterdam.nl/afval/v1/sites/', 10)\n",
    "d_site.head()"
   ]
  },
  {
   "cell_type": "markdown",
   "id": "dca21f2d-d53a-4156-920f-8f13eb58f2c6",
   "metadata": {},
   "source": [
    "### 1.3 Which one makes most sense to focus on?"
   ]
  },
  {
   "cell_type": "markdown",
   "id": "0e6fa1e2-35fb-4f44-b5c1-eef859a2c6cf",
   "metadata": {
    "tags": []
   },
   "source": [
    "> Sites.   \n",
    "> I chose it because it relates all the information to a *straatnaam* or *stadsdeel* level, which makes it easier for subsequent analysis when adding other socio-economic information (although it will not be done in this task). In addition, it contains the information about the number, the type, and the volume of the container in each site, which summarises most of the information that the Containers API have. Moreover, It also contains the geometric information that the Wells API have.   \n",
    "> However, I also think the Containers API useful for some visualizations, so I still retrieve it here."
   ]
  },
  {
   "cell_type": "code",
   "execution_count": 9,
   "id": "6d9ca8a8-ecb5-499c-b9ce-c8619471cd07",
   "metadata": {
    "tags": []
   },
   "outputs": [
    {
     "name": "stdout",
     "output_type": "stream",
     "text": [
      "Retrieved 100, this is from the first 10 pages.\n",
      "The shape of the retrieved data is (100, 21)\n"
     ]
    },
    {
     "data": {
      "text/html": [
       "<div>\n",
       "<style scoped>\n",
       "    .dataframe tbody tr th:only-of-type {\n",
       "        vertical-align: middle;\n",
       "    }\n",
       "\n",
       "    .dataframe tbody tr th {\n",
       "        vertical-align: top;\n",
       "    }\n",
       "\n",
       "    .dataframe thead th {\n",
       "        text-align: right;\n",
       "    }\n",
       "</style>\n",
       "<table border=\"1\" class=\"dataframe\">\n",
       "  <thead>\n",
       "    <tr style=\"text-align: right;\">\n",
       "      <th></th>\n",
       "      <th>_display</th>\n",
       "      <th>id</th>\n",
       "      <th>short_id</th>\n",
       "      <th>stadsdeel</th>\n",
       "      <th>straatnaam</th>\n",
       "      <th>huisnummer</th>\n",
       "      <th>_links.self.href</th>\n",
       "      <th>wells.count</th>\n",
       "      <th>wells.href</th>\n",
       "      <th>fracties.containers.Rest</th>\n",
       "      <th>...</th>\n",
       "      <th>centroid.type</th>\n",
       "      <th>centroid.coordinates</th>\n",
       "      <th>fracties.containers.Papier</th>\n",
       "      <th>fracties.volumes_m3.Papier</th>\n",
       "      <th>fracties.containers.Glas</th>\n",
       "      <th>fracties.volumes_m3.Glas</th>\n",
       "      <th>fracties.containers.Textiel</th>\n",
       "      <th>fracties.volumes_m3.Textiel</th>\n",
       "      <th>fracties.containers.GFT</th>\n",
       "      <th>fracties.volumes_m3.GFT</th>\n",
       "    </tr>\n",
       "  </thead>\n",
       "  <tbody>\n",
       "    <tr>\n",
       "      <th>0</th>\n",
       "      <td>112973-485077-F84b-Schotse Hooglanden 60</td>\n",
       "      <td>112973-485077-F84b</td>\n",
       "      <td>594260</td>\n",
       "      <td>F</td>\n",
       "      <td>Schotse Hooglanden</td>\n",
       "      <td>60</td>\n",
       "      <td>https://api.data.amsterdam.nl/afval/v1/sites/1...</td>\n",
       "      <td>2</td>\n",
       "      <td>https://api.data.amsterdam.nl/afval/v1/wells/?...</td>\n",
       "      <td>2.0</td>\n",
       "      <td>...</td>\n",
       "      <td>Point</td>\n",
       "      <td>[4.770360950305084, 52.35199187960165]</td>\n",
       "      <td>NaN</td>\n",
       "      <td>NaN</td>\n",
       "      <td>NaN</td>\n",
       "      <td>NaN</td>\n",
       "      <td>NaN</td>\n",
       "      <td>NaN</td>\n",
       "      <td>NaN</td>\n",
       "      <td>NaN</td>\n",
       "    </tr>\n",
       "    <tr>\n",
       "      <th>1</th>\n",
       "      <td>113044-485173-F84b-Schotse Hooglanden 24</td>\n",
       "      <td>113044-485173-F84b</td>\n",
       "      <td>594224</td>\n",
       "      <td>F</td>\n",
       "      <td>Schotse Hooglanden</td>\n",
       "      <td>24</td>\n",
       "      <td>https://api.data.amsterdam.nl/afval/v1/sites/1...</td>\n",
       "      <td>2</td>\n",
       "      <td>https://api.data.amsterdam.nl/afval/v1/wells/?...</td>\n",
       "      <td>2.0</td>\n",
       "      <td>...</td>\n",
       "      <td>Point</td>\n",
       "      <td>[4.771383478042294, 52.35285580231497]</td>\n",
       "      <td>NaN</td>\n",
       "      <td>NaN</td>\n",
       "      <td>NaN</td>\n",
       "      <td>NaN</td>\n",
       "      <td>NaN</td>\n",
       "      <td>NaN</td>\n",
       "      <td>NaN</td>\n",
       "      <td>NaN</td>\n",
       "    </tr>\n",
       "    <tr>\n",
       "      <th>2</th>\n",
       "      <td>113095-485088-F84b-La Meye 32</td>\n",
       "      <td>113095-485088-F84b</td>\n",
       "      <td>592132</td>\n",
       "      <td>F</td>\n",
       "      <td>La Meye</td>\n",
       "      <td>32</td>\n",
       "      <td>https://api.data.amsterdam.nl/afval/v1/sites/1...</td>\n",
       "      <td>2</td>\n",
       "      <td>https://api.data.amsterdam.nl/afval/v1/wells/?...</td>\n",
       "      <td>2.0</td>\n",
       "      <td>...</td>\n",
       "      <td>Point</td>\n",
       "      <td>[4.772143476437362, 52.35209430145116]</td>\n",
       "      <td>NaN</td>\n",
       "      <td>NaN</td>\n",
       "      <td>NaN</td>\n",
       "      <td>NaN</td>\n",
       "      <td>NaN</td>\n",
       "      <td>NaN</td>\n",
       "      <td>NaN</td>\n",
       "      <td>NaN</td>\n",
       "    </tr>\n",
       "    <tr>\n",
       "      <th>3</th>\n",
       "      <td>113104-485015-F84b-Le Tourmalet 54</td>\n",
       "      <td>113104-485015-F84b</td>\n",
       "      <td>592054</td>\n",
       "      <td>F</td>\n",
       "      <td>Le Tourmalet</td>\n",
       "      <td>54</td>\n",
       "      <td>https://api.data.amsterdam.nl/afval/v1/sites/1...</td>\n",
       "      <td>2</td>\n",
       "      <td>https://api.data.amsterdam.nl/afval/v1/wells/?...</td>\n",
       "      <td>2.0</td>\n",
       "      <td>...</td>\n",
       "      <td>Point</td>\n",
       "      <td>[4.772281174339349, 52.35143709902364]</td>\n",
       "      <td>NaN</td>\n",
       "      <td>NaN</td>\n",
       "      <td>NaN</td>\n",
       "      <td>NaN</td>\n",
       "      <td>NaN</td>\n",
       "      <td>NaN</td>\n",
       "      <td>NaN</td>\n",
       "      <td>NaN</td>\n",
       "    </tr>\n",
       "    <tr>\n",
       "      <th>4</th>\n",
       "      <td>113105-484894-F84b-Pyreneeën 23</td>\n",
       "      <td>113105-484894-F84b</td>\n",
       "      <td>219823</td>\n",
       "      <td>F</td>\n",
       "      <td>Pyreneeën</td>\n",
       "      <td>23</td>\n",
       "      <td>https://api.data.amsterdam.nl/afval/v1/sites/1...</td>\n",
       "      <td>2</td>\n",
       "      <td>https://api.data.amsterdam.nl/afval/v1/wells/?...</td>\n",
       "      <td>2.0</td>\n",
       "      <td>...</td>\n",
       "      <td>Point</td>\n",
       "      <td>[4.77231474867903, 52.35035497265083]</td>\n",
       "      <td>NaN</td>\n",
       "      <td>NaN</td>\n",
       "      <td>NaN</td>\n",
       "      <td>NaN</td>\n",
       "      <td>NaN</td>\n",
       "      <td>NaN</td>\n",
       "      <td>NaN</td>\n",
       "      <td>NaN</td>\n",
       "    </tr>\n",
       "  </tbody>\n",
       "</table>\n",
       "<p>5 rows × 21 columns</p>\n",
       "</div>"
      ],
      "text/plain": [
       "                                   _display                  id  short_id  \\\n",
       "0  112973-485077-F84b-Schotse Hooglanden 60  112973-485077-F84b    594260   \n",
       "1  113044-485173-F84b-Schotse Hooglanden 24  113044-485173-F84b    594224   \n",
       "2             113095-485088-F84b-La Meye 32  113095-485088-F84b    592132   \n",
       "3        113104-485015-F84b-Le Tourmalet 54  113104-485015-F84b    592054   \n",
       "4           113105-484894-F84b-Pyreneeën 23  113105-484894-F84b    219823   \n",
       "\n",
       "  stadsdeel          straatnaam  huisnummer  \\\n",
       "0         F  Schotse Hooglanden          60   \n",
       "1         F  Schotse Hooglanden          24   \n",
       "2         F             La Meye          32   \n",
       "3         F        Le Tourmalet          54   \n",
       "4         F           Pyreneeën          23   \n",
       "\n",
       "                                    _links.self.href  wells.count  \\\n",
       "0  https://api.data.amsterdam.nl/afval/v1/sites/1...            2   \n",
       "1  https://api.data.amsterdam.nl/afval/v1/sites/1...            2   \n",
       "2  https://api.data.amsterdam.nl/afval/v1/sites/1...            2   \n",
       "3  https://api.data.amsterdam.nl/afval/v1/sites/1...            2   \n",
       "4  https://api.data.amsterdam.nl/afval/v1/sites/1...            2   \n",
       "\n",
       "                                          wells.href  \\\n",
       "0  https://api.data.amsterdam.nl/afval/v1/wells/?...   \n",
       "1  https://api.data.amsterdam.nl/afval/v1/wells/?...   \n",
       "2  https://api.data.amsterdam.nl/afval/v1/wells/?...   \n",
       "3  https://api.data.amsterdam.nl/afval/v1/wells/?...   \n",
       "4  https://api.data.amsterdam.nl/afval/v1/wells/?...   \n",
       "\n",
       "   fracties.containers.Rest  ...  centroid.type  \\\n",
       "0                       2.0  ...          Point   \n",
       "1                       2.0  ...          Point   \n",
       "2                       2.0  ...          Point   \n",
       "3                       2.0  ...          Point   \n",
       "4                       2.0  ...          Point   \n",
       "\n",
       "                     centroid.coordinates fracties.containers.Papier  \\\n",
       "0  [4.770360950305084, 52.35199187960165]                        NaN   \n",
       "1  [4.771383478042294, 52.35285580231497]                        NaN   \n",
       "2  [4.772143476437362, 52.35209430145116]                        NaN   \n",
       "3  [4.772281174339349, 52.35143709902364]                        NaN   \n",
       "4   [4.77231474867903, 52.35035497265083]                        NaN   \n",
       "\n",
       "   fracties.volumes_m3.Papier  fracties.containers.Glas  \\\n",
       "0                         NaN                       NaN   \n",
       "1                         NaN                       NaN   \n",
       "2                         NaN                       NaN   \n",
       "3                         NaN                       NaN   \n",
       "4                         NaN                       NaN   \n",
       "\n",
       "   fracties.volumes_m3.Glas  fracties.containers.Textiel  \\\n",
       "0                       NaN                          NaN   \n",
       "1                       NaN                          NaN   \n",
       "2                       NaN                          NaN   \n",
       "3                       NaN                          NaN   \n",
       "4                       NaN                          NaN   \n",
       "\n",
       "   fracties.volumes_m3.Textiel  fracties.containers.GFT  \\\n",
       "0                          NaN                      NaN   \n",
       "1                          NaN                      NaN   \n",
       "2                          NaN                      NaN   \n",
       "3                          NaN                      NaN   \n",
       "4                          NaN                      NaN   \n",
       "\n",
       "   fracties.volumes_m3.GFT  \n",
       "0                      NaN  \n",
       "1                      NaN  \n",
       "2                      NaN  \n",
       "3                      NaN  \n",
       "4                      NaN  \n",
       "\n",
       "[5 rows x 21 columns]"
      ]
     },
     "execution_count": 9,
     "metadata": {},
     "output_type": "execute_result"
    }
   ],
   "source": [
    "# For the Sites API, I retrieve the first 100 pages for analysis.\n",
    "# It takes about 10 seconds to process.\n",
    "d_site = myretrieval('https://api.data.amsterdam.nl/afval/v1/sites/', 10)\n",
    "d_site.head()"
   ]
  },
  {
   "cell_type": "markdown",
   "id": "4ec39e51-88c5-4a94-a1c0-9b8e70ca8fac",
   "metadata": {},
   "source": [
    "> As I will use the variables below frequently, and NA matters a lot for some calculations, I replace NA here by 0 for all of them, and making a new data *d_use*. It will not distort the meaning of the original value, because the value of the object will not be listed if the site does not have one in the hierarchical data, which becomes NA. The actual meaning of it is 0."
   ]
  },
  {
   "cell_type": "code",
   "execution_count": null,
   "id": "4b19ae45-cdb8-419f-a533-fc00448e5917",
   "metadata": {
    "tags": []
   },
   "outputs": [],
   "source": [
    "# Replace NA by 0 for container-related columns\n",
    "d_use = d_site.copy()\n",
    "mylist = ['fracties.containers.Rest', 'fracties.volumes_m3.Rest', \n",
    "          'fracties.containers.Papier', 'fracties.volumes_m3.Papier',\n",
    "          'fracties.containers.Glas', 'fracties.volumes_m3.Glas',\n",
    "          'fracties.containers.Textiel','fracties.volumes_m3.Textiel',\n",
    "          'fracties.containers.GFT','fracties.volumes_m3.GFT',\n",
    "          'fracties.containers.Plastic','fracties.volumes_m3.Plastic',\n",
    "          'fracties.containers.Unkown','fracties.volumes_m3.Unkown']\n",
    "d_use[mylist] = d_site.loc[:, mylist].fillna(0)"
   ]
  },
  {
   "cell_type": "markdown",
   "id": "1589d9af-b283-4320-8b27-b0bcc214bbe5",
   "metadata": {},
   "source": [
    "> I also retrieve data from the Containers API."
   ]
  },
  {
   "cell_type": "code",
   "execution_count": null,
   "id": "51157466-a3b6-42b7-adae-fc1ac099c63a",
   "metadata": {
    "tags": []
   },
   "outputs": [],
   "source": [
    "# For the Containers API, I retrieve the first 10 pages as a proof-of concept\n",
    "d_container = myretrieval('https://api.data.amsterdam.nl/afval/v1/containers/', 10)\n",
    "d_container.head()"
   ]
  },
  {
   "cell_type": "markdown",
   "id": "b97e8cfb-a7a0-4270-b2e2-186ae7fff919",
   "metadata": {
    "tags": []
   },
   "source": [
    "## 2. Statistical overview"
   ]
  },
  {
   "cell_type": "markdown",
   "id": "d61ac99d-3aa2-4b05-84e2-108cfd788c8e",
   "metadata": {},
   "source": [
    "### 2.1 Descriptive statistics"
   ]
  },
  {
   "cell_type": "code",
   "execution_count": null,
   "id": "48cda86b-6477-4315-abab-c150a9478b0d",
   "metadata": {
    "tags": []
   },
   "outputs": [],
   "source": [
    "# For comlumns except for 'short_id','huisnummer', provide a descriptive statistics.\n",
    "d_use.loc[:, d_use.columns.drop(['short_id','huisnummer'])].describe()"
   ]
  },
  {
   "cell_type": "code",
   "execution_count": null,
   "id": "3ecbd671-c6a5-47b3-8404-da6b88a2c0dd",
   "metadata": {
    "tags": []
   },
   "outputs": [],
   "source": [
    "# The count of sites in different stadsdeels\n",
    "d_use.stadsdeel.value_counts(dropna = False)"
   ]
  },
  {
   "cell_type": "code",
   "execution_count": null,
   "id": "676217b6-1215-4457-a6a4-d03fd57ab585",
   "metadata": {
    "tags": []
   },
   "outputs": [],
   "source": [
    "# The count of straatnaam in different stadsdeels\n",
    "d_use.straatnaam.value_counts(dropna = False)"
   ]
  },
  {
   "cell_type": "code",
   "execution_count": null,
   "id": "8d11d0f2-86f8-4b52-9573-856fac2856b2",
   "metadata": {
    "tags": []
   },
   "outputs": [],
   "source": [
    "# Sum up the total number of all type of containers in each site\n",
    "d_use['total'] = d_use['fracties.containers.Rest'] + d_use['fracties.containers.Papier'] + d_use['fracties.containers.Glas']\n",
    "\n",
    "# The mean of the number of containers in each straatnaam\n",
    "d_simple = d_use.groupby('straatnaam')[[\n",
    "    'total',\n",
    "    'fracties.containers.Rest','fracties.volumes_m3.Rest', \n",
    "    'fracties.containers.Papier','fracties.volumes_m3.Papier',\n",
    "    'fracties.containers.Glas','fracties.volumes_m3.Glas']].mean()\n",
    "d_simple.head()"
   ]
  },
  {
   "cell_type": "markdown",
   "id": "5b6c2703-38b5-4824-9bef-e16e185ddca5",
   "metadata": {
    "tags": []
   },
   "source": [
    "### 2.2 Clustering the straatnaams"
   ]
  },
  {
   "cell_type": "markdown",
   "id": "399b03dc-916d-4cd3-8618-a6c3a9181809",
   "metadata": {},
   "source": [
    "> I wondered if the straatnaams could be grouped based on their features about containers. So, I used k-means clustering here.    \n",
    "> - The features I chose here are container volumns of rest, papier, and glas, because they are three main types of containers, and they also can reflect some social life aspects. For example, I expect more paper waste will be generated near the schools and more glass waste near the restaurants.\n",
    "> - I did not choose number of them here, because the number and the volumn are highly correlated, so choosing one of them is enough."
   ]
  },
  {
   "cell_type": "code",
   "execution_count": null,
   "id": "7303e1ad-088a-4466-b53d-6366e83b6084",
   "metadata": {
    "tags": []
   },
   "outputs": [],
   "source": [
    "# I combined two columns because I want to keep both of them as the district information for later analysis.\n",
    "# It works out like 'F Schotse Hooglanden'\n",
    "# I had checked the crosstable of them, finding that one straatnaam only belongs to one stadsdeel, \n",
    "# while one stadsdeel have many straatnaam. So this step only add stadsdeel info on straatnaam.\n",
    "\n",
    "# print(pd.crosstab(d_use['stadsdeel'], d_use['straatnaam'])) # I annotated it to keep the output tidy.\n",
    "\n",
    "d_use['district'] = d_use['stadsdeel'] + \" \" + d_use['straatnaam']"
   ]
  },
  {
   "cell_type": "code",
   "execution_count": null,
   "id": "850a4546-f7cd-4d67-90ae-17e2ff37978f",
   "metadata": {
    "tags": []
   },
   "outputs": [],
   "source": [
    "# Keep the data that is of my interest\n",
    "d_k = d_use.groupby(['district'])[[\n",
    "    'fracties.volumes_m3.Rest', \n",
    "    'fracties.volumes_m3.Papier',\n",
    "    'fracties.volumes_m3.Glas']].mean()\n",
    "d_k.head()"
   ]
  },
  {
   "cell_type": "code",
   "execution_count": null,
   "id": "af2290e3-4ad8-4a8c-84e8-06191084a0d2",
   "metadata": {
    "tags": []
   },
   "outputs": [],
   "source": [
    "# Normalization\n",
    "scaler = StandardScaler()\n",
    "d_s = scaler.fit_transform(d_k)"
   ]
  },
  {
   "cell_type": "code",
   "execution_count": null,
   "id": "cb1de1ff-a1ea-48d2-88c0-52a8511bc36c",
   "metadata": {
    "tags": []
   },
   "outputs": [],
   "source": [
    "# Decide k\n",
    "# 1.Compute sum of squares\n",
    "sos = []\n",
    "for i in range(1, 10):\n",
    "    km_out = KMeans(n_clusters = i, n_init = 20)\n",
    "    km_out.fit(d_s)\n",
    "    sos.append(km_out.inertia_)\n",
    "print(sos)\n",
    "\n",
    "# 2.Plot\n",
    "plt.plot(range(1, 10), sos, marker = 'o')\n",
    "plt.show()"
   ]
  },
  {
   "cell_type": "code",
   "execution_count": null,
   "id": "a3796589-7d91-49a0-bf72-3ab1241991fa",
   "metadata": {
    "tags": []
   },
   "outputs": [],
   "source": [
    "# I chose k = 3 by looking at the bend.\n",
    "# Compute k-means with k = 3\n",
    "km_res = KMeans(n_clusters = 3, n_init = 25).fit(d_s)"
   ]
  },
  {
   "cell_type": "code",
   "execution_count": null,
   "id": "a7b16efd-d09b-4cfd-9a85-288b7d3844b0",
   "metadata": {
    "tags": []
   },
   "outputs": [],
   "source": [
    "km_res.cluster_centers_"
   ]
  },
  {
   "cell_type": "markdown",
   "id": "0e3dede7-b730-4210-8d5c-5644e68e2980",
   "metadata": {},
   "source": [
    "> I tried to plot a 3D plot here since I have exactly three features, it would be more intuitive to draw a 3D diagram. I studied the code in __[this article](https://www.kaggle.com/code/naren3256/kmeans-clustering-and-cluster-visualization-in-3d/notebook)__ to draw the diagram because it is similar to the idea of drawing a 2D diagram in the textbook.   \n",
    "> The pattern is clear. The first cluster includes the straatnaams with rest and papier more, the second cluster includes the straatnaams with rest and papier less, and the third cluster includes the straatnaams with glas more."
   ]
  },
  {
   "cell_type": "code",
   "execution_count": null,
   "id": "0b6bce95-8706-4578-9ff0-3286b2f5243f",
   "metadata": {
    "tags": []
   },
   "outputs": [],
   "source": [
    "x = d_s\n",
    "y_clusters = km_res.fit_predict(x)\n",
    "fig = plt.figure(figsize = (10,10))\n",
    "ax = fig.add_subplot(111, projection='3d')\n",
    "ax.scatter(x[y_clusters == 0,0],x[y_clusters == 0,1],x[y_clusters == 0,2], s = 40 , color = 'blue', label = \"cluster 0\")\n",
    "ax.scatter(x[y_clusters == 1,0],x[y_clusters == 1,1],x[y_clusters == 1,2], s = 40 , color = 'orange', label = \"cluster 1\")\n",
    "ax.scatter(x[y_clusters == 2,0],x[y_clusters == 2,1],x[y_clusters == 2,2], s = 40 , color = 'green', label = \"cluster 2\")\n",
    "ax.set_xlabel('Rest')\n",
    "ax.set_ylabel('Papier')\n",
    "ax.set_zlabel('Glas')\n",
    "ax.legend()\n",
    "plt.show()"
   ]
  },
  {
   "cell_type": "code",
   "execution_count": null,
   "id": "be37b7d2-7325-41de-b3ff-9381c530f387",
   "metadata": {
    "tags": []
   },
   "outputs": [],
   "source": [
    "# I could also see the pattern using two features\n",
    "for cluster in range(km_res.n_clusters): \n",
    "    plt.scatter(\n",
    "        d_s[km_res.labels_ == cluster, 0], d_s[km_res.labels_ == cluster, 1]\n",
    "    )\n",
    "plt.scatter(\n",
    "    km_res.cluster_centers_[:, 0], # compute center\n",
    "    km_res.cluster_centers_[:, 1],\n",
    "    s=500,\n",
    "    marker=\"*\",\n",
    ")\n",
    "plt.show()"
   ]
  },
  {
   "cell_type": "markdown",
   "id": "35ca1c03-2e42-4028-bc23-fd967e878e2d",
   "metadata": {},
   "source": [
    "### 2.3 The correlation between clusters and stadsdeels"
   ]
  },
  {
   "cell_type": "markdown",
   "id": "925f8dc0-e737-4ecf-9a99-ede6b2160d7d",
   "metadata": {},
   "source": [
    "> I wonder if there is correlation between the straatnaam clusters and the stadsdeels they belong to. Because It is possible that a certain stadsdeel is equipped with more glass waste containers.   \n",
    "> However, I only provide a proof-of concept here, my results are not indicative. Since I did not retrieve all the data, there are only three stadsdeels, the frequency of one of them is very low."
   ]
  },
  {
   "cell_type": "code",
   "execution_count": null,
   "id": "e9cd035f-89c4-4b69-9a68-98a13e2d401f",
   "metadata": {
    "tags": []
   },
   "outputs": [],
   "source": [
    "d_k.reset_index(inplace = True)\n",
    "d_k['stadsdeel'] = d_k.district.map(lambda x: x.split()[0])\n",
    "d_k.district = d_k.district.map(lambda x: x[2:])\n",
    "d_k['cluster'] = km_res.labels_\n",
    "d_k.head()"
   ]
  },
  {
   "cell_type": "code",
   "execution_count": null,
   "id": "50a6c8f5-2610-4c9b-a31a-5d53f43cbe7f",
   "metadata": {
    "tags": []
   },
   "outputs": [],
   "source": [
    "array1 = d_k['cluster'].value_counts(dropna = False)\n",
    "array2 = d_k['stadsdeel'].value_counts(dropna = False)\n",
    "s, p = scipy.stats.chisquare(array1, array2, ddof=0, axis=0)\n",
    "print(f\"Chisquare test: chisq={s:.2},p={p:.3}\")\n",
    "print(f\"Is it significant? {p<0.05}\")"
   ]
  },
  {
   "cell_type": "markdown",
   "id": "763ea58a-6641-4a4d-b715-2d0ff6672dd0",
   "metadata": {},
   "source": [
    "## 3. Plotting"
   ]
  },
  {
   "cell_type": "markdown",
   "id": "a1a1e198-2d65-4fa4-a9ec-be7ba50c9b35",
   "metadata": {},
   "source": [
    "### 3.1 The percentage of each type of container in Amsterdam"
   ]
  },
  {
   "cell_type": "markdown",
   "id": "5043e5bc-acfe-4c95-a69b-8bb2a19c991a",
   "metadata": {},
   "source": [
    "> I could use the data from Sites API for plotting, but in this case, using data from Container API will be much more convinient."
   ]
  },
  {
   "cell_type": "code",
   "execution_count": null,
   "id": "0fec12aa-ec0d-478e-93d2-0e9205134693",
   "metadata": {
    "tags": []
   },
   "outputs": [],
   "source": [
    "d_container['waste_name'].value_counts().plot.pie(autopct='%1.0f', explode = [0,.4,.15])"
   ]
  },
  {
   "cell_type": "markdown",
   "id": "8f8221a0-4643-40e3-b6d6-53343142e267",
   "metadata": {},
   "source": [
    "### 3.2 Average volumns and weight for different type of containers"
   ]
  },
  {
   "cell_type": "code",
   "execution_count": null,
   "id": "21b84afc-5480-4867-afc9-d8d1cd881b24",
   "metadata": {
    "tags": []
   },
   "outputs": [],
   "source": [
    "d_container2 = d_container.groupby('waste_name').mean(numeric_only = True)\n",
    "d_container2.reset_index(inplace = True)\n",
    "d_container2.head()"
   ]
  },
  {
   "cell_type": "code",
   "execution_count": null,
   "id": "09ec6681-82f9-419d-9226-db21416f1b50",
   "metadata": {
    "tags": []
   },
   "outputs": [],
   "source": [
    "sns.catplot(x='waste_name', y='container_type.volume', \n",
    "            kind='bar', data=d_container2)\n",
    "sns.catplot(x='waste_name', y='container_type.weight', \n",
    "            kind='bar', data=d_container2)"
   ]
  },
  {
   "cell_type": "markdown",
   "id": "1aefe982-cfca-4bd9-835a-19be95daf24f",
   "metadata": {},
   "source": [
    "### 3.3 Trend of average volumns and weight of just-operated-containers over time"
   ]
  },
  {
   "cell_type": "code",
   "execution_count": null,
   "id": "fe0c8870-2479-433d-a27c-c698ee02ce87",
   "metadata": {
    "tags": []
   },
   "outputs": [],
   "source": [
    "# Unify the type as str\n",
    "# d_container['operational_date'].map(type)\n",
    "d_container['operational_date'] = d_container['operational_date'].map(str)\n",
    "\n",
    "# Extract the year of their operation data\n",
    "d_container['year'] = d_container.operational_date.str.slice(0, 4)"
   ]
  },
  {
   "cell_type": "code",
   "execution_count": null,
   "id": "e10175d1-88b1-4668-8003-0daad4e84076",
   "metadata": {
    "tags": []
   },
   "outputs": [],
   "source": [
    "# Combine data\n",
    "d_combined = d_container.groupby('year').agg(\n",
    "    volume = ('container_type.volume', 'mean'),\n",
    "    weight = ('container_type.weight', 'mean')\n",
    ").drop(index='None')\n",
    "d_combined"
   ]
  },
  {
   "cell_type": "code",
   "execution_count": null,
   "id": "ae370daa-8cf7-4440-a1e9-70f827d4ab4f",
   "metadata": {
    "tags": []
   },
   "outputs": [],
   "source": [
    "# Plotting\n",
    "ax1 = plt.subplot()\n",
    "ax2 = ax1.twinx()\n",
    "sns.lineplot(x='year', y='volume', data=d_combined, color=\"blue\", ax=ax1)\n",
    "sns.lineplot(x='year', y='weight', data=d_combined, color=\"red\", ax=ax2)\n",
    "\n",
    "plt.title(\"Trend of average volumns and weight of just-operated-containers over time\")\n",
    "plt.show()"
   ]
  },
  {
   "cell_type": "markdown",
   "id": "e345cfed-2413-4d5a-8c5a-35da0cafd1d9",
   "metadata": {
    "tags": []
   },
   "source": [
    "## 4. Expot the data"
   ]
  },
  {
   "cell_type": "markdown",
   "id": "f7560180-e487-452b-a48f-63471cc2a36b",
   "metadata": {
    "tags": []
   },
   "source": [
    "### 4.1 To file.csv"
   ]
  },
  {
   "cell_type": "code",
   "execution_count": null,
   "id": "955bc1a7-e05f-4666-a338-0deea3ad07d0",
   "metadata": {
    "tags": []
   },
   "outputs": [],
   "source": [
    "d_use.to_csv(\"export1.csv\", index = False, header = True)"
   ]
  },
  {
   "cell_type": "markdown",
   "id": "8ee9fd85-6546-4f35-a502-bc923a0e5811",
   "metadata": {},
   "source": [
    "### 4.2 To file.json"
   ]
  },
  {
   "cell_type": "markdown",
   "id": "309073dc-e900-483f-8739-fb181e6d46c2",
   "metadata": {},
   "source": [
    "> Since my original function only return *json_normalize* object, I revised it a bit to make it return *dict* object."
   ]
  },
  {
   "cell_type": "code",
   "execution_count": null,
   "id": "2c22f316-489a-43b2-a9da-9e70fe995277",
   "metadata": {
    "tags": []
   },
   "outputs": [],
   "source": [
    "# Revise the function a bit to save and export a json file\n",
    "def myretrieval2(url, page_number):\n",
    "    allitems = []\n",
    "    number_of_page = 1 # The original value is set as 1, which means starting from the 1st page.\n",
    "    while True:\n",
    "        r = requests.get(url)\n",
    "        data = r.json()\n",
    "        if number_of_page > page_number:\n",
    "            print(f'Retrieved {len(allitems)}, this is from the first {page_number} pages.')\n",
    "            break\n",
    "        allitems.extend(data['results'])\n",
    "        number_of_page += 1 # Get the page number of the next page\n",
    "        url = data['_links']['next']['href'] # Get the URL of the next page\n",
    "    return data\n",
    "\n",
    "d_json = myretrieval2('https://api.data.amsterdam.nl/afval/v1/sites/', 10)"
   ]
  },
  {
   "cell_type": "markdown",
   "id": "44082502-7777-49e7-b9fe-ed7f8b1ffd33",
   "metadata": {},
   "source": [
    "### 4.3 To file.txt"
   ]
  },
  {
   "cell_type": "code",
   "execution_count": null,
   "id": "2325c117-7d87-447f-a429-057db66c1050",
   "metadata": {
    "tags": []
   },
   "outputs": [],
   "source": [
    "with open('export2.json', 'w', encoding = 'utf-8') as f:\n",
    "    json.dump(d_json, f)"
   ]
  },
  {
   "cell_type": "code",
   "execution_count": null,
   "id": "8623952d-6450-4bb2-9195-f29b35d63a31",
   "metadata": {
    "tags": []
   },
   "outputs": [],
   "source": [
    "file = open('export3.txt', 'w', encoding = 'utf-8') \n",
    "for k,v in d_json.items():\n",
    "    file.write(str(k)+' '+str(v)+'\\n')\n",
    "file.close()"
   ]
  }
 ],
 "metadata": {
  "kernelspec": {
   "display_name": "Python 3 (ipykernel)",
   "language": "python",
   "name": "python3"
  },
  "language_info": {
   "codemirror_mode": {
    "name": "ipython",
    "version": 3
   },
   "file_extension": ".py",
   "mimetype": "text/x-python",
   "name": "python",
   "nbconvert_exporter": "python",
   "pygments_lexer": "ipython3",
   "version": "3.11.1"
  },
  "toc-autonumbering": false,
  "toc-showcode": false,
  "toc-showmarkdowntxt": false,
  "toc-showtags": false
 },
 "nbformat": 4,
 "nbformat_minor": 5
}
